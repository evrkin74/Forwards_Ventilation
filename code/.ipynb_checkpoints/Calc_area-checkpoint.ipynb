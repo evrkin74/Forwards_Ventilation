{
 "cells": [
  {
   "cell_type": "code",
   "execution_count": 4,
   "id": "c889f252-0376-4277-94f2-308a6471dd79",
   "metadata": {},
   "outputs": [],
   "source": [
    "import os\n",
    "import sys\n",
    "import matplotlib\n",
    "import matplotlib.pyplot as plt\n",
    "import dask.array as da\n",
    "import dask.dataframe as dd\n",
    "import xarray as xr\n",
    "from xnemogcm import open_domain_cfg, get_metrics\n",
    "import xgcm\n",
    "import cartopy.crs as ccrs\n",
    "import cmocean\n",
    "import numpy as np\n",
    "from scipy.stats import linregress\n",
    "import datetime\n",
    "import pandas as pd\n",
    "import geopy\n",
    "# Add SouthernDemons library to PATH\n",
    "sys.path.append(os.path.abspath(\"../lib/\"))\n",
    "from teos_ten import teos_sigma0\n",
    "import datesandtime"
   ]
  },
  {
   "cell_type": "code",
   "execution_count": 5,
   "id": "2f09376b-0f18-474f-abe6-9f61d8d7e2a3",
   "metadata": {},
   "outputs": [],
   "source": [
    "# Subdomain information (As inputted into TRACMASS, note non-pythonic indexing)\n",
    "imindom = 1\n",
    "imaxdom = 1440\n",
    "jmindom = 1\n",
    "jmaxdom = 400\n",
    "kmindom = 1\n",
    "kmaxdom = 75\n",
    "\n",
    "# Location of the TRACMASS run\n",
    "\n",
    "\n",
    "# Location of masks and grid information for the model\n",
    "grid_path = os.path.abspath(\"/gws/nopw/j04/bas_pog/astyles/ORCA025_fwd/topo\" )\n",
    "grid_files = ['mask.nc','mesh_hgr.nc','mesh_zgr.nc']"
   ]
  },
  {
   "cell_type": "code",
   "execution_count": 6,
   "id": "072579b2-48fb-4f77-81a8-6b59b64712c8",
   "metadata": {},
   "outputs": [],
   "source": [
    "ds_domain = open_domain_cfg( datadir=grid_path, files = grid_files )"
   ]
  },
  {
   "cell_type": "code",
   "execution_count": null,
   "id": "a17f0810-501d-4412-8caa-077be8a047c5",
   "metadata": {},
   "outputs": [],
   "source": [
    "#logic\n",
    "#create array of x dist in meters,  shape = (n) x (n) (as it has a periodic b.c.)\n",
    "#create array of y dist in meters, shape = (n) x (n)\n",
    "#area = multiply both"
   ]
  },
  {
   "cell_type": "code",
   "execution_count": null,
   "id": "17eb8897-7363-4daf-9873-c8a621e788e8",
   "metadata": {},
   "outputs": [],
   "source": [
    "coords_1 = (52.2296756, 21.0122287)\n",
    "coords_2 = (52.406374, 16.9251681)\n",
    "\n",
    "print(geopy.distance.geodesic(coords_1, coords_2).km)\n",
    "\n",
    "from geopy import distance \n",
    "distance_2d= distance.distance(pt1, pt2).m\n",
    "print(distance_2d)\n"
   ]
  },
  {
   "cell_type": "code",
   "execution_count": 17,
   "id": "80c11565-1463-4397-bc6a-0c65d42fc231",
   "metadata": {},
   "outputs": [
    {
     "ename": "ValueError",
     "evalue": "The truth value of an array with more than one element is ambiguous. Use a.any() or a.all()",
     "output_type": "error",
     "traceback": [
      "\u001b[0;31m---------------------------------------------------------------------------\u001b[0m",
      "\u001b[0;31mValueError\u001b[0m                                Traceback (most recent call last)",
      "Cell \u001b[0;32mIn[17], line 6\u001b[0m\n\u001b[1;32m      4\u001b[0m \u001b[38;5;66;03m# 2D geodesic distance in meters\u001b[39;00m\n\u001b[1;32m      5\u001b[0m \u001b[38;5;28;01mfrom\u001b[39;00m\u001b[38;5;250m \u001b[39m\u001b[38;5;21;01mgeopy\u001b[39;00m\u001b[38;5;250m \u001b[39m\u001b[38;5;28;01mimport\u001b[39;00m distance \n\u001b[0;32m----> 6\u001b[0m distance_2d\u001b[38;5;241m=\u001b[39m \u001b[43mdistance\u001b[49m\u001b[38;5;241;43m.\u001b[39;49m\u001b[43mdistance\u001b[49m\u001b[43m(\u001b[49m\u001b[43mpt1\u001b[49m\u001b[43m,\u001b[49m\u001b[43m \u001b[49m\u001b[43mpt2\u001b[49m\u001b[43m)\u001b[49m\u001b[38;5;241m.\u001b[39mm\n\u001b[1;32m      7\u001b[0m \u001b[38;5;28mprint\u001b[39m(distance_2d)\n\u001b[1;32m      8\u001b[0m \u001b[38;5;241m92.85194331754518\u001b[39m\n",
      "File \u001b[0;32m~/.conda/envs/ventilation/lib/python3.13/site-packages/geopy/distance.py:540\u001b[0m, in \u001b[0;36mgeodesic.__init__\u001b[0;34m(self, *args, **kwargs)\u001b[0m\n\u001b[1;32m    538\u001b[0m \u001b[38;5;28mself\u001b[39m\u001b[38;5;241m.\u001b[39mset_ellipsoid(kwargs\u001b[38;5;241m.\u001b[39mpop(\u001b[38;5;124m'\u001b[39m\u001b[38;5;124mellipsoid\u001b[39m\u001b[38;5;124m'\u001b[39m, \u001b[38;5;124m'\u001b[39m\u001b[38;5;124mWGS-84\u001b[39m\u001b[38;5;124m'\u001b[39m))\n\u001b[1;32m    539\u001b[0m major, minor, f \u001b[38;5;241m=\u001b[39m \u001b[38;5;28mself\u001b[39m\u001b[38;5;241m.\u001b[39mELLIPSOID\n\u001b[0;32m--> 540\u001b[0m \u001b[38;5;28;43msuper\u001b[39;49m\u001b[43m(\u001b[49m\u001b[43m)\u001b[49m\u001b[38;5;241;43m.\u001b[39;49m\u001b[38;5;21;43m__init__\u001b[39;49m\u001b[43m(\u001b[49m\u001b[38;5;241;43m*\u001b[39;49m\u001b[43margs\u001b[49m\u001b[43m,\u001b[49m\u001b[43m \u001b[49m\u001b[38;5;241;43m*\u001b[39;49m\u001b[38;5;241;43m*\u001b[39;49m\u001b[43mkwargs\u001b[49m\u001b[43m)\u001b[49m\n",
      "File \u001b[0;32m~/.conda/envs/ventilation/lib/python3.13/site-packages/geopy/distance.py:276\u001b[0m, in \u001b[0;36mDistance.__init__\u001b[0;34m(self, *args, **kwargs)\u001b[0m\n\u001b[1;32m    274\u001b[0m \u001b[38;5;28;01melif\u001b[39;00m \u001b[38;5;28mlen\u001b[39m(args) \u001b[38;5;241m>\u001b[39m \u001b[38;5;241m1\u001b[39m:\n\u001b[1;32m    275\u001b[0m     \u001b[38;5;28;01mfor\u001b[39;00m a, b \u001b[38;5;129;01min\u001b[39;00m util\u001b[38;5;241m.\u001b[39mpairwise(args):\n\u001b[0;32m--> 276\u001b[0m         kilometers \u001b[38;5;241m+\u001b[39m\u001b[38;5;241m=\u001b[39m \u001b[38;5;28;43mself\u001b[39;49m\u001b[38;5;241;43m.\u001b[39;49m\u001b[43mmeasure\u001b[49m\u001b[43m(\u001b[49m\u001b[43ma\u001b[49m\u001b[43m,\u001b[49m\u001b[43m \u001b[49m\u001b[43mb\u001b[49m\u001b[43m)\u001b[49m\n\u001b[1;32m    278\u001b[0m kilometers \u001b[38;5;241m+\u001b[39m\u001b[38;5;241m=\u001b[39m units\u001b[38;5;241m.\u001b[39mkilometers(\u001b[38;5;241m*\u001b[39m\u001b[38;5;241m*\u001b[39mkwargs)\n\u001b[1;32m    279\u001b[0m \u001b[38;5;28mself\u001b[39m\u001b[38;5;241m.\u001b[39m__kilometers \u001b[38;5;241m=\u001b[39m kilometers\n",
      "File \u001b[0;32m~/.conda/envs/ventilation/lib/python3.13/site-packages/geopy/distance.py:556\u001b[0m, in \u001b[0;36mgeodesic.measure\u001b[0;34m(self, a, b)\u001b[0m\n\u001b[1;32m    555\u001b[0m \u001b[38;5;28;01mdef\u001b[39;00m\u001b[38;5;250m \u001b[39m\u001b[38;5;21mmeasure\u001b[39m(\u001b[38;5;28mself\u001b[39m, a, b):\n\u001b[0;32m--> 556\u001b[0m     a, b \u001b[38;5;241m=\u001b[39m \u001b[43mPoint\u001b[49m\u001b[43m(\u001b[49m\u001b[43ma\u001b[49m\u001b[43m)\u001b[49m, Point(b)\n\u001b[1;32m    557\u001b[0m     _ensure_same_altitude(a, b)\n\u001b[1;32m    558\u001b[0m     lat1, lon1 \u001b[38;5;241m=\u001b[39m a\u001b[38;5;241m.\u001b[39mlatitude, a\u001b[38;5;241m.\u001b[39mlongitude\n",
      "File \u001b[0;32m~/.conda/envs/ventilation/lib/python3.13/site-packages/geopy/point.py:175\u001b[0m, in \u001b[0;36mPoint.__new__\u001b[0;34m(cls, latitude, longitude, altitude)\u001b[0m\n\u001b[1;32m    171\u001b[0m             \u001b[38;5;28;01mraise\u001b[39;00m \u001b[38;5;167;01mTypeError\u001b[39;00m(\n\u001b[1;32m    172\u001b[0m                 \u001b[38;5;124m\"\u001b[39m\u001b[38;5;124mFailed to create Point instance from \u001b[39m\u001b[38;5;132;01m%r\u001b[39;00m\u001b[38;5;124m.\u001b[39m\u001b[38;5;124m\"\u001b[39m \u001b[38;5;241m%\u001b[39m (arg,)\n\u001b[1;32m    173\u001b[0m             )\n\u001b[1;32m    174\u001b[0m         \u001b[38;5;28;01melse\u001b[39;00m:\n\u001b[0;32m--> 175\u001b[0m             \u001b[38;5;28;01mreturn\u001b[39;00m \u001b[38;5;28;43mcls\u001b[39;49m\u001b[38;5;241;43m.\u001b[39;49m\u001b[43mfrom_sequence\u001b[49m\u001b[43m(\u001b[49m\u001b[43mseq\u001b[49m\u001b[43m)\u001b[49m\n\u001b[1;32m    177\u001b[0m \u001b[38;5;28;01mif\u001b[39;00m single_arg:\n\u001b[1;32m    178\u001b[0m     \u001b[38;5;28;01mraise\u001b[39;00m \u001b[38;5;167;01mValueError\u001b[39;00m(\n\u001b[1;32m    179\u001b[0m         \u001b[38;5;124m'\u001b[39m\u001b[38;5;124mA single number has been passed to the Point \u001b[39m\u001b[38;5;124m'\u001b[39m\n\u001b[1;32m    180\u001b[0m         \u001b[38;5;124m'\u001b[39m\u001b[38;5;124mconstructor. This is probably a mistake, because \u001b[39m\u001b[38;5;124m'\u001b[39m\n\u001b[0;32m   (...)\u001b[0m\n\u001b[1;32m    184\u001b[0m         \u001b[38;5;124m'\u001b[39m\u001b[38;5;124mto get rid of this error.\u001b[39m\u001b[38;5;124m'\u001b[39m\n\u001b[1;32m    185\u001b[0m     )\n",
      "File \u001b[0;32m~/.conda/envs/ventilation/lib/python3.13/site-packages/geopy/point.py:472\u001b[0m, in \u001b[0;36mPoint.from_sequence\u001b[0;34m(cls, seq)\u001b[0m\n\u001b[1;32m    469\u001b[0m \u001b[38;5;28;01mif\u001b[39;00m \u001b[38;5;28mlen\u001b[39m(args) \u001b[38;5;241m>\u001b[39m \u001b[38;5;241m3\u001b[39m:\n\u001b[1;32m    470\u001b[0m     \u001b[38;5;28;01mraise\u001b[39;00m \u001b[38;5;167;01mValueError\u001b[39;00m(\u001b[38;5;124m'\u001b[39m\u001b[38;5;124mWhen creating a Point from sequence, it \u001b[39m\u001b[38;5;124m'\u001b[39m\n\u001b[1;32m    471\u001b[0m                      \u001b[38;5;124m'\u001b[39m\u001b[38;5;124mmust not have more than 3 items.\u001b[39m\u001b[38;5;124m'\u001b[39m)\n\u001b[0;32m--> 472\u001b[0m \u001b[38;5;28;01mreturn\u001b[39;00m \u001b[38;5;28;43mcls\u001b[39;49m\u001b[43m(\u001b[49m\u001b[38;5;241;43m*\u001b[39;49m\u001b[43margs\u001b[49m\u001b[43m)\u001b[49m\n",
      "File \u001b[0;32m~/.conda/envs/ventilation/lib/python3.13/site-packages/geopy/point.py:188\u001b[0m, in \u001b[0;36mPoint.__new__\u001b[0;34m(cls, latitude, longitude, altitude)\u001b[0m\n\u001b[1;32m    177\u001b[0m \u001b[38;5;28;01mif\u001b[39;00m single_arg:\n\u001b[1;32m    178\u001b[0m     \u001b[38;5;28;01mraise\u001b[39;00m \u001b[38;5;167;01mValueError\u001b[39;00m(\n\u001b[1;32m    179\u001b[0m         \u001b[38;5;124m'\u001b[39m\u001b[38;5;124mA single number has been passed to the Point \u001b[39m\u001b[38;5;124m'\u001b[39m\n\u001b[1;32m    180\u001b[0m         \u001b[38;5;124m'\u001b[39m\u001b[38;5;124mconstructor. This is probably a mistake, because \u001b[39m\u001b[38;5;124m'\u001b[39m\n\u001b[0;32m   (...)\u001b[0m\n\u001b[1;32m    184\u001b[0m         \u001b[38;5;124m'\u001b[39m\u001b[38;5;124mto get rid of this error.\u001b[39m\u001b[38;5;124m'\u001b[39m\n\u001b[1;32m    185\u001b[0m     )\n\u001b[1;32m    187\u001b[0m latitude, longitude, altitude \u001b[38;5;241m=\u001b[39m \\\n\u001b[0;32m--> 188\u001b[0m     \u001b[43m_normalize_coordinates\u001b[49m\u001b[43m(\u001b[49m\u001b[43mlatitude\u001b[49m\u001b[43m,\u001b[49m\u001b[43m \u001b[49m\u001b[43mlongitude\u001b[49m\u001b[43m,\u001b[49m\u001b[43m \u001b[49m\u001b[43maltitude\u001b[49m\u001b[43m)\u001b[49m\n\u001b[1;32m    190\u001b[0m \u001b[38;5;28mself\u001b[39m \u001b[38;5;241m=\u001b[39m \u001b[38;5;28msuper\u001b[39m()\u001b[38;5;241m.\u001b[39m\u001b[38;5;21m__new__\u001b[39m(\u001b[38;5;28mcls\u001b[39m)\n\u001b[1;32m    191\u001b[0m \u001b[38;5;28mself\u001b[39m\u001b[38;5;241m.\u001b[39mlatitude \u001b[38;5;241m=\u001b[39m latitude\n",
      "File \u001b[0;32m~/.conda/envs/ventilation/lib/python3.13/site-packages/geopy/point.py:57\u001b[0m, in \u001b[0;36m_normalize_coordinates\u001b[0;34m(latitude, longitude, altitude)\u001b[0m\n\u001b[1;32m     56\u001b[0m \u001b[38;5;28;01mdef\u001b[39;00m\u001b[38;5;250m \u001b[39m\u001b[38;5;21m_normalize_coordinates\u001b[39m(latitude, longitude, altitude):\n\u001b[0;32m---> 57\u001b[0m     latitude \u001b[38;5;241m=\u001b[39m \u001b[38;5;28mfloat\u001b[39m(\u001b[43mlatitude\u001b[49m\u001b[43m \u001b[49m\u001b[38;5;129;43;01mor\u001b[39;49;00m\u001b[43m \u001b[49m\u001b[38;5;241;43m0.0\u001b[39;49m)\n\u001b[1;32m     58\u001b[0m     longitude \u001b[38;5;241m=\u001b[39m \u001b[38;5;28mfloat\u001b[39m(longitude \u001b[38;5;129;01mor\u001b[39;00m \u001b[38;5;241m0.0\u001b[39m)\n\u001b[1;32m     59\u001b[0m     altitude \u001b[38;5;241m=\u001b[39m \u001b[38;5;28mfloat\u001b[39m(altitude \u001b[38;5;129;01mor\u001b[39;00m \u001b[38;5;241m0.0\u001b[39m)\n",
      "\u001b[0;31mValueError\u001b[0m: The truth value of an array with more than one element is ambiguous. Use a.any() or a.all()"
     ]
    }
   ],
   "source": [
    "import numpy as np\n",
    "# points with latitude,longitude units in degrees ,altitude unit in meters\n",
    "df = dd.DataFrame.from_dict({\"num1\": [1, 2, 3], \"num2\": [7, 8, 9]}, npartitions=2)\n",
    "df['x_dist'] = distance.distance(pt1, pt2).m\n",
    "# 2D geodesic distance in meters\n"
   ]
  },
  {
   "cell_type": "code",
   "execution_count": 9,
   "id": "a497c4a3-0b16-410d-8af7-f32fa1666288",
   "metadata": {},
   "outputs": [
    {
     "data": {
      "text/plain": [
       "[35.3524]"
      ]
     },
     "execution_count": 9,
     "metadata": {},
     "output_type": "execute_result"
    }
   ],
   "source": [
    "pt1[:1]"
   ]
  },
  {
   "cell_type": "code",
   "execution_count": 18,
   "id": "90ec3ea4-498f-43b1-9977-a20a5f7be8b9",
   "metadata": {},
   "outputs": [
    {
     "data": {
      "text/html": [
       "<div><strong>Dask DataFrame Structure:</strong></div>\n",
       "<table border=\"1\" class=\"dataframe\">\n",
       "  <thead>\n",
       "    <tr style=\"text-align: right;\">\n",
       "      <th></th>\n",
       "      <th>num1</th>\n",
       "      <th>num2</th>\n",
       "    </tr>\n",
       "    <tr>\n",
       "      <th>npartitions=2</th>\n",
       "      <th></th>\n",
       "      <th></th>\n",
       "    </tr>\n",
       "  </thead>\n",
       "  <tbody>\n",
       "    <tr>\n",
       "      <th>0</th>\n",
       "      <td>int64</td>\n",
       "      <td>int64</td>\n",
       "    </tr>\n",
       "    <tr>\n",
       "      <th>2</th>\n",
       "      <td>...</td>\n",
       "      <td>...</td>\n",
       "    </tr>\n",
       "    <tr>\n",
       "      <th>2</th>\n",
       "      <td>...</td>\n",
       "      <td>...</td>\n",
       "    </tr>\n",
       "  </tbody>\n",
       "</table>\n",
       "<div>Dask Name: frompandas, 1 expression</div>"
      ],
      "text/plain": [
       "Dask DataFrame Structure:\n",
       "                num1   num2\n",
       "npartitions=2              \n",
       "0              int64  int64\n",
       "2                ...    ...\n",
       "2                ...    ...\n",
       "Dask Name: frompandas, 1 expression\n",
       "Expr=df"
      ]
     },
     "execution_count": 18,
     "metadata": {},
     "output_type": "execute_result"
    }
   ],
   "source": [
    "df"
   ]
  },
  {
   "cell_type": "code",
   "execution_count": null,
   "id": "5e98d113-cc7b-4607-8c30-3dfe03f916f2",
   "metadata": {},
   "outputs": [],
   "source": []
  }
 ],
 "metadata": {
  "kernelspec": {
   "display_name": "Python 3 (ipykernel)",
   "language": "python",
   "name": "python3"
  },
  "language_info": {
   "codemirror_mode": {
    "name": "ipython",
    "version": 3
   },
   "file_extension": ".py",
   "mimetype": "text/x-python",
   "name": "python",
   "nbconvert_exporter": "python",
   "pygments_lexer": "ipython3",
   "version": "3.13.1"
  }
 },
 "nbformat": 4,
 "nbformat_minor": 5
}
